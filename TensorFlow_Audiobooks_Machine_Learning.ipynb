{
 "cells": [
  {
   "cell_type": "markdown",
   "id": "c50ac339",
   "metadata": {},
   "source": [
    "## Libraries"
   ]
  },
  {
   "cell_type": "code",
   "execution_count": 1,
   "id": "6005831e",
   "metadata": {},
   "outputs": [],
   "source": [
    "import numpy as np\n",
    "import tensorflow as tf"
   ]
  },
  {
   "cell_type": "markdown",
   "id": "d4048d33",
   "metadata": {},
   "source": [
    "## Data"
   ]
  },
  {
   "cell_type": "code",
   "execution_count": 4,
   "id": "7bc93f56",
   "metadata": {},
   "outputs": [],
   "source": [
    "npz = np.load(\"Audiobooks_data_train.npz\")\n",
    "\n",
    "train_inputs = npz[\"inputs\"].astype(float)\n",
    "train_targets = npz[\"targets\"].astype(int)\n",
    "\n",
    "npz = np.load(\"Audiobooks_data_validation.npz\")\n",
    "\n",
    "validation_inputs = npz[\"inputs\"].astype(float)\n",
    "validation_targets = npz[\"targets\"].astype(int)\n",
    "\n",
    "npz = np.load(\"Audiobooks_data_test.npz\")\n",
    "\n",
    "test_inputs = npz[\"inputs\"].astype(float)\n",
    "test_targets = npz[\"targets\"].astype(int)"
   ]
  },
  {
   "cell_type": "markdown",
   "id": "d08209ac",
   "metadata": {},
   "source": [
    "## Model\n",
    "Outline, optimizers, loss, early stopping and training"
   ]
  },
  {
   "cell_type": "code",
   "execution_count": 11,
   "id": "3d029c8b",
   "metadata": {},
   "outputs": [],
   "source": [
    "input_size = 10\n",
    "output_size = 2\n",
    "hidden_layer_size = 50\n",
    "\n",
    "model = tf.keras.Sequential([\n",
    "                            tf.keras.layers.Dense(hidden_layer_size, activation=\"relu\"),\n",
    "                            tf.keras.layers.Dense(hidden_layer_size, activation=\"relu\"),\n",
    "                            tf.keras.layers.Dense(output_size, activation=\"softmax\")\n",
    "                            ])"
   ]
  },
  {
   "cell_type": "code",
   "execution_count": 12,
   "id": "760bfa31",
   "metadata": {},
   "outputs": [],
   "source": [
    "model.compile(optimizer=\"adam\", loss=\"sparse_categorical_crossentropy\", metrics=[\"accuracy\"])"
   ]
  },
  {
   "cell_type": "code",
   "execution_count": 14,
   "id": "d578b020",
   "metadata": {
    "scrolled": true
   },
   "outputs": [
    {
     "name": "stdout",
     "output_type": "stream",
     "text": [
      "Epoch 1/100\n",
      "36/36 - 0s - loss: 0.4104 - accuracy: 0.7720 - val_loss: 0.4232 - val_accuracy: 0.7629 - 137ms/epoch - 4ms/step\n",
      "Epoch 2/100\n",
      "36/36 - 0s - loss: 0.3864 - accuracy: 0.7818 - val_loss: 0.4010 - val_accuracy: 0.8031 - 89ms/epoch - 2ms/step\n",
      "Epoch 3/100\n",
      "36/36 - 0s - loss: 0.3684 - accuracy: 0.8019 - val_loss: 0.3948 - val_accuracy: 0.7539 - 88ms/epoch - 2ms/step\n",
      "Epoch 4/100\n",
      "36/36 - 0s - loss: 0.3579 - accuracy: 0.8055 - val_loss: 0.3786 - val_accuracy: 0.7830 - 88ms/epoch - 2ms/step\n",
      "Epoch 5/100\n",
      "36/36 - 0s - loss: 0.3511 - accuracy: 0.8094 - val_loss: 0.3759 - val_accuracy: 0.7942 - 88ms/epoch - 2ms/step\n",
      "Epoch 6/100\n",
      "36/36 - 0s - loss: 0.3443 - accuracy: 0.8181 - val_loss: 0.3756 - val_accuracy: 0.8009 - 87ms/epoch - 2ms/step\n",
      "Epoch 7/100\n",
      "36/36 - 0s - loss: 0.3411 - accuracy: 0.8131 - val_loss: 0.3784 - val_accuracy: 0.7584 - 98ms/epoch - 3ms/step\n",
      "Epoch 8/100\n",
      "36/36 - 0s - loss: 0.3351 - accuracy: 0.8226 - val_loss: 0.3735 - val_accuracy: 0.8098 - 103ms/epoch - 3ms/step\n",
      "Epoch 9/100\n",
      "36/36 - 0s - loss: 0.3316 - accuracy: 0.8223 - val_loss: 0.3792 - val_accuracy: 0.7472 - 90ms/epoch - 2ms/step\n",
      "Epoch 10/100\n",
      "36/36 - 0s - loss: 0.3321 - accuracy: 0.8195 - val_loss: 0.3641 - val_accuracy: 0.7919 - 100ms/epoch - 3ms/step\n",
      "Epoch 11/100\n",
      "36/36 - 0s - loss: 0.3264 - accuracy: 0.8279 - val_loss: 0.3660 - val_accuracy: 0.7852 - 88ms/epoch - 2ms/step\n",
      "Epoch 12/100\n",
      "36/36 - 0s - loss: 0.3239 - accuracy: 0.8268 - val_loss: 0.3641 - val_accuracy: 0.7875 - 90ms/epoch - 3ms/step\n",
      "Epoch 13/100\n",
      "36/36 - 0s - loss: 0.3252 - accuracy: 0.8265 - val_loss: 0.3693 - val_accuracy: 0.7629 - 98ms/epoch - 3ms/step\n",
      "Epoch 14/100\n",
      "36/36 - 0s - loss: 0.3279 - accuracy: 0.8234 - val_loss: 0.3675 - val_accuracy: 0.7897 - 94ms/epoch - 3ms/step\n"
     ]
    },
    {
     "data": {
      "text/plain": [
       "<keras.callbacks.History at 0x214fec55d50>"
      ]
     },
     "execution_count": 14,
     "metadata": {},
     "output_type": "execute_result"
    }
   ],
   "source": [
    "batch_size = 100\n",
    "\n",
    "max_epochs = 100\n",
    "\n",
    "early_stopping = tf.keras.callbacks.EarlyStopping(patience=2)\n",
    "\n",
    "model.fit(train_inputs,\n",
    "          train_targets, \n",
    "          batch_size = batch_size,\n",
    "          epochs = max_epochs,\n",
    "          callbacks = [early_stopping],\n",
    "          validation_data=(validation_inputs, validation_targets),\n",
    "          verbose=2)"
   ]
  },
  {
   "cell_type": "markdown",
   "id": "a35eb58b",
   "metadata": {},
   "source": [
    "## Test the model"
   ]
  },
  {
   "cell_type": "code",
   "execution_count": 15,
   "id": "d3123b03",
   "metadata": {},
   "outputs": [
    {
     "name": "stdout",
     "output_type": "stream",
     "text": [
      "14/14 [==============================] - 0s 2ms/step - loss: 0.3332 - accuracy: 0.8013\n"
     ]
    }
   ],
   "source": [
    "test_loss, test_accuracy = model.evaluate(test_inputs, test_targets)"
   ]
  },
  {
   "cell_type": "code",
   "execution_count": 17,
   "id": "5250078e",
   "metadata": {},
   "outputs": [
    {
     "name": "stdout",
     "output_type": "stream",
     "text": [
      "Test loss: 0.33, Test accuracy: 80.13%\n"
     ]
    }
   ],
   "source": [
    "print(\"Test loss: {0:.2f}, Test accuracy: {1:.2f}%\".format(test_loss, test_accuracy*100.))"
   ]
  },
  {
   "cell_type": "markdown",
   "id": "d00d81f6",
   "metadata": {},
   "source": [
    "## Conclusion"
   ]
  },
  {
   "cell_type": "markdown",
   "id": "0e92442a",
   "metadata": {},
   "source": [
    "It's pretty hard to model a human behaviour. In this case we made an approximation to it but is not completely well defined."
   ]
  }
 ],
 "metadata": {
  "kernelspec": {
   "display_name": "Python [conda env:py3-TF2.0]",
   "language": "python",
   "name": "conda-env-py3-TF2.0-py"
  },
  "language_info": {
   "codemirror_mode": {
    "name": "ipython",
    "version": 3
   },
   "file_extension": ".py",
   "mimetype": "text/x-python",
   "name": "python",
   "nbconvert_exporter": "python",
   "pygments_lexer": "ipython3",
   "version": "3.10.9"
  }
 },
 "nbformat": 4,
 "nbformat_minor": 5
}
